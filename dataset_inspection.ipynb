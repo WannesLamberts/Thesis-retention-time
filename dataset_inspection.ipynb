{
 "cells": [
  {
   "cell_type": "code",
   "execution_count": 5,
   "id": "58cfd38111be7c1",
   "metadata": {
    "ExecuteTime": {
     "end_time": "2024-10-13T15:04:56.665668Z",
     "start_time": "2024-10-13T15:04:56.229510Z"
    }
   },
   "outputs": [],
   "source": [
    "from dataset import *"
   ]
  },
  {
   "cell_type": "markdown",
   "id": "72f756b3-8132-4fb5-b90a-f0f832b8e345",
   "metadata": {},
   "source": [
    "# inspecting dataset"
   ]
  },
  {
   "cell_type": "code",
   "execution_count": 2,
   "id": "initial_id",
   "metadata": {
    "ExecuteTime": {
     "end_time": "2024-10-13T15:05:19.593582Z",
     "start_time": "2024-10-13T15:05:19.563399Z"
    }
   },
   "outputs": [
    {
     "data": {
      "text/html": [
       "<div>\n",
       "<style scoped>\n",
       "    .dataframe tbody tr th:only-of-type {\n",
       "        vertical-align: middle;\n",
       "    }\n",
       "\n",
       "    .dataframe tbody tr th {\n",
       "        vertical-align: top;\n",
       "    }\n",
       "\n",
       "    .dataframe thead th {\n",
       "        text-align: right;\n",
       "    }\n",
       "</style>\n",
       "<table border=\"1\" class=\"dataframe\">\n",
       "  <thead>\n",
       "    <tr style=\"text-align: right;\">\n",
       "      <th></th>\n",
       "      <th>Modified sequence</th>\n",
       "      <th>Retention time</th>\n",
       "      <th>Score</th>\n",
       "      <th>Experiment</th>\n",
       "    </tr>\n",
       "  </thead>\n",
       "  <tbody>\n",
       "    <tr>\n",
       "      <th>0</th>\n",
       "      <td>_AAAFYVR_</td>\n",
       "      <td>27.308</td>\n",
       "      <td>150.820</td>\n",
       "      <td>TUM_first_pool_1_01_01-2xIT_2xHCD-1h-R1-tryptic</td>\n",
       "    </tr>\n",
       "    <tr>\n",
       "      <th>1</th>\n",
       "      <td>_AAAFYVR_</td>\n",
       "      <td>28.402</td>\n",
       "      <td>106.760</td>\n",
       "      <td>TUM_first_pool_1_01_01-2xIT_2xHCD-1h-R1-tryptic</td>\n",
       "    </tr>\n",
       "    <tr>\n",
       "      <th>2</th>\n",
       "      <td>_AAIQHPR_</td>\n",
       "      <td>33.415</td>\n",
       "      <td>24.998</td>\n",
       "      <td>TUM_first_pool_1_01_01-2xIT_2xHCD-1h-R1-tryptic</td>\n",
       "    </tr>\n",
       "    <tr>\n",
       "      <th>3</th>\n",
       "      <td>_AALHFFNFR_</td>\n",
       "      <td>41.253</td>\n",
       "      <td>211.390</td>\n",
       "      <td>TUM_first_pool_1_01_01-2xIT_2xHCD-1h-R1-tryptic</td>\n",
       "    </tr>\n",
       "    <tr>\n",
       "      <th>4</th>\n",
       "      <td>_AALHFFNFR_</td>\n",
       "      <td>41.254</td>\n",
       "      <td>134.810</td>\n",
       "      <td>TUM_first_pool_1_01_01-2xIT_2xHCD-1h-R1-tryptic</td>\n",
       "    </tr>\n",
       "  </tbody>\n",
       "</table>\n",
       "</div>"
      ],
      "text/plain": [
       "  Modified sequence  Retention time    Score  \\\n",
       "0         _AAAFYVR_          27.308  150.820   \n",
       "1         _AAAFYVR_          28.402  106.760   \n",
       "2         _AAIQHPR_          33.415   24.998   \n",
       "3       _AALHFFNFR_          41.253  211.390   \n",
       "4       _AALHFFNFR_          41.254  134.810   \n",
       "\n",
       "                                        Experiment  \n",
       "0  TUM_first_pool_1_01_01-2xIT_2xHCD-1h-R1-tryptic  \n",
       "1  TUM_first_pool_1_01_01-2xIT_2xHCD-1h-R1-tryptic  \n",
       "2  TUM_first_pool_1_01_01-2xIT_2xHCD-1h-R1-tryptic  \n",
       "3  TUM_first_pool_1_01_01-2xIT_2xHCD-1h-R1-tryptic  \n",
       "4  TUM_first_pool_1_01_01-2xIT_2xHCD-1h-R1-tryptic  "
      ]
     },
     "execution_count": 2,
     "metadata": {},
     "output_type": "execute_result"
    }
   ],
   "source": [
    "df = load_dataframe(\"evidence_combined.tsv\",[\"Modified sequence\",\"Retention time\",\"Score\",\"Experiment\"])\n",
    "df.head()"
   ]
  },
  {
   "cell_type": "code",
   "execution_count": 2,
   "id": "eb738499-1d69-4a89-a7f3-9796eeb8e67d",
   "metadata": {},
   "outputs": [
    {
     "name": "stdout",
     "output_type": "stream",
     "text": [
      "<class 'pandas.core.frame.DataFrame'>\n",
      "RangeIndex: 3985 entries, 0 to 3984\n",
      "Data columns (total 4 columns):\n",
      " #   Column             Non-Null Count  Dtype  \n",
      "---  ------             --------------  -----  \n",
      " 0   Modified sequence  3985 non-null   object \n",
      " 1   Retention time     3985 non-null   float64\n",
      " 2   Score              3985 non-null   float64\n",
      " 3   Experiment         3985 non-null   object \n",
      "dtypes: float64(2), object(2)\n",
      "memory usage: 124.7+ KB\n"
     ]
    }
   ],
   "source": [
    "df.info()"
   ]
  },
  {
   "cell_type": "code",
   "execution_count": 3,
   "id": "0a57f364-697b-46c4-a790-3273f5f6d072",
   "metadata": {},
   "outputs": [
    {
     "data": {
      "text/html": [
       "<div>\n",
       "<style scoped>\n",
       "    .dataframe tbody tr th:only-of-type {\n",
       "        vertical-align: middle;\n",
       "    }\n",
       "\n",
       "    .dataframe tbody tr th {\n",
       "        vertical-align: top;\n",
       "    }\n",
       "\n",
       "    .dataframe thead th {\n",
       "        text-align: right;\n",
       "    }\n",
       "</style>\n",
       "<table border=\"1\" class=\"dataframe\">\n",
       "  <thead>\n",
       "    <tr style=\"text-align: right;\">\n",
       "      <th></th>\n",
       "      <th>Retention time</th>\n",
       "      <th>Score</th>\n",
       "    </tr>\n",
       "  </thead>\n",
       "  <tbody>\n",
       "    <tr>\n",
       "      <th>count</th>\n",
       "      <td>3985.000000</td>\n",
       "      <td>3985.000000</td>\n",
       "    </tr>\n",
       "    <tr>\n",
       "      <th>mean</th>\n",
       "      <td>38.526259</td>\n",
       "      <td>94.869799</td>\n",
       "    </tr>\n",
       "    <tr>\n",
       "      <th>std</th>\n",
       "      <td>14.281559</td>\n",
       "      <td>55.542479</td>\n",
       "    </tr>\n",
       "    <tr>\n",
       "      <th>min</th>\n",
       "      <td>9.210600</td>\n",
       "      <td>0.000000</td>\n",
       "    </tr>\n",
       "    <tr>\n",
       "      <th>25%</th>\n",
       "      <td>26.439000</td>\n",
       "      <td>50.966000</td>\n",
       "    </tr>\n",
       "    <tr>\n",
       "      <th>50%</th>\n",
       "      <td>37.622000</td>\n",
       "      <td>82.305000</td>\n",
       "    </tr>\n",
       "    <tr>\n",
       "      <th>75%</th>\n",
       "      <td>52.393000</td>\n",
       "      <td>132.090000</td>\n",
       "    </tr>\n",
       "    <tr>\n",
       "      <th>max</th>\n",
       "      <td>60.010000</td>\n",
       "      <td>316.720000</td>\n",
       "    </tr>\n",
       "  </tbody>\n",
       "</table>\n",
       "</div>"
      ],
      "text/plain": [
       "       Retention time        Score\n",
       "count     3985.000000  3985.000000\n",
       "mean        38.526259    94.869799\n",
       "std         14.281559    55.542479\n",
       "min          9.210600     0.000000\n",
       "25%         26.439000    50.966000\n",
       "50%         37.622000    82.305000\n",
       "75%         52.393000   132.090000\n",
       "max         60.010000   316.720000"
      ]
     },
     "execution_count": 3,
     "metadata": {},
     "output_type": "execute_result"
    }
   ],
   "source": [
    "df.describe()"
   ]
  },
  {
   "cell_type": "code",
   "execution_count": 4,
   "id": "60cc9462-671d-4b2a-83ef-9e5f5d10c1ee",
   "metadata": {},
   "outputs": [
    {
     "name": "stdout",
     "output_type": "stream",
     "text": [
      "Modified sequence: 3033\n",
      "Retention time: 767\n",
      "Score: 2252\n",
      "Experiment: 3984\n"
     ]
    }
   ],
   "source": [
    "for column in df.columns:\n",
    "    print(f\"{column }: {df[column].duplicated().sum()}\")"
   ]
  }
 ],
 "metadata": {
  "kernelspec": {
   "display_name": "Python 3 (ipykernel)",
   "language": "python",
   "name": "python3"
  },
  "language_info": {
   "codemirror_mode": {
    "name": "ipython",
    "version": 3
   },
   "file_extension": ".py",
   "mimetype": "text/x-python",
   "name": "python",
   "nbconvert_exporter": "python",
   "pygments_lexer": "ipython3",
   "version": "3.12.7"
  }
 },
 "nbformat": 4,
 "nbformat_minor": 5
}
