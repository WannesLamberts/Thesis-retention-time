{
 "cells": [
  {
   "cell_type": "markdown",
   "id": "9e7d1adb-c4fe-4a06-b497-b7c667dfb942",
   "metadata": {
    "collapsed": true,
    "jupyter": {
     "outputs_hidden": true
    }
   },
   "source": [
    "# peptide analysis"
   ]
  },
  {
   "cell_type": "code",
   "execution_count": 1,
   "id": "14c6e9fb-8e08-411a-bc77-4dacc4bf01bb",
   "metadata": {},
   "outputs": [],
   "source": [
    "import pandas as pd\n",
    "from utils.preprocess import *"
   ]
  },
  {
   "cell_type": "code",
   "execution_count": 3,
   "id": "19b548d8-9e4d-4cf9-9251-0c94acdefc83",
   "metadata": {},
   "outputs": [
    {
     "name": "stdout",
     "output_type": "stream",
     "text": [
      "All TSV files have been merged into output/test_data_calibrated_merged.tsv\n"
     ]
    }
   ],
   "source": [
    "merge_psm_files('../../massivekb_dataset/results/test_data_calibrated', 'output/test_data_calibrated_merged.tsv',['filename','level 1','scan','RT','sequence','mztab_filename','task_id','iRT'])"
   ]
  },
  {
   "cell_type": "code",
   "execution_count": 4,
   "id": "00c7ec49-c1ec-420b-bf3c-58505a43d911",
   "metadata": {},
   "outputs": [],
   "source": [
    "df = pd.read_csv(\"output/first_data_extended100_calibrated_merged.tsv\", sep=\"\\t\",index_col=False)"
   ]
  },
  {
   "cell_type": "code",
   "execution_count": 5,
   "id": "e238d4ea-8be0-414d-9c3a-a466a57a305b",
   "metadata": {},
   "outputs": [
    {
     "data": {
      "text/html": [
       "<div>\n",
       "<style scoped>\n",
       "    .dataframe tbody tr th:only-of-type {\n",
       "        vertical-align: middle;\n",
       "    }\n",
       "\n",
       "    .dataframe tbody tr th {\n",
       "        vertical-align: top;\n",
       "    }\n",
       "\n",
       "    .dataframe thead th {\n",
       "        text-align: right;\n",
       "    }\n",
       "</style>\n",
       "<table border=\"1\" class=\"dataframe\">\n",
       "  <thead>\n",
       "    <tr style=\"text-align: right;\">\n",
       "      <th></th>\n",
       "      <th>filename</th>\n",
       "      <th>level 1</th>\n",
       "      <th>scan</th>\n",
       "      <th>RT</th>\n",
       "      <th>sequence</th>\n",
       "      <th>mztab_filename</th>\n",
       "      <th>task_id</th>\n",
       "      <th>iRT</th>\n",
       "    </tr>\n",
       "  </thead>\n",
       "  <tbody>\n",
       "    <tr>\n",
       "      <th>0</th>\n",
       "      <td>PTSS4201SN16441.mzML</td>\n",
       "      <td>30</td>\n",
       "      <td>20919</td>\n",
       "      <td>58.286275</td>\n",
       "      <td>PVTVVVLK</td>\n",
       "      <td>Library_Augmentation_Search_-_Combined_Single_...</td>\n",
       "      <td>04fe276206f54b3c8f81798ea92aa6e3</td>\n",
       "      <td>54.739327</td>\n",
       "    </tr>\n",
       "    <tr>\n",
       "      <th>1</th>\n",
       "      <td>PTSS4201SN16441.mzML</td>\n",
       "      <td>196</td>\n",
       "      <td>16551</td>\n",
       "      <td>50.065410</td>\n",
       "      <td>SASSSAAGSPGGLTSLQQQK</td>\n",
       "      <td>Library_Augmentation_Search_-_Combined_Single_...</td>\n",
       "      <td>04fe276206f54b3c8f81798ea92aa6e3</td>\n",
       "      <td>42.407604</td>\n",
       "    </tr>\n",
       "    <tr>\n",
       "      <th>2</th>\n",
       "      <td>PTSS4201SN16441.mzML</td>\n",
       "      <td>237</td>\n",
       "      <td>17303</td>\n",
       "      <td>51.487835</td>\n",
       "      <td>MGPSRLVRGPR</td>\n",
       "      <td>Library_Augmentation_Search_-_Combined_Single_...</td>\n",
       "      <td>04fe276206f54b3c8f81798ea92aa6e3</td>\n",
       "      <td>44.541315</td>\n",
       "    </tr>\n",
       "    <tr>\n",
       "      <th>3</th>\n",
       "      <td>PTSS4201SN16441.mzML</td>\n",
       "      <td>245</td>\n",
       "      <td>44559</td>\n",
       "      <td>103.201400</td>\n",
       "      <td>LQPMLLEMER</td>\n",
       "      <td>Library_Augmentation_Search_-_Combined_Single_...</td>\n",
       "      <td>04fe276206f54b3c8f81798ea92aa6e3</td>\n",
       "      <td>122.114341</td>\n",
       "    </tr>\n",
       "    <tr>\n",
       "      <th>4</th>\n",
       "      <td>PTSS4201SN16441.mzML</td>\n",
       "      <td>258</td>\n",
       "      <td>19567</td>\n",
       "      <td>55.739282</td>\n",
       "      <td>NIIIAGPPGTGK</td>\n",
       "      <td>Library_Augmentation_Search_-_Combined_Single_...</td>\n",
       "      <td>04fe276206f54b3c8f81798ea92aa6e3</td>\n",
       "      <td>50.918706</td>\n",
       "    </tr>\n",
       "  </tbody>\n",
       "</table>\n",
       "</div>"
      ],
      "text/plain": [
       "               filename  level 1   scan          RT              sequence  \\\n",
       "0  PTSS4201SN16441.mzML       30  20919   58.286275              PVTVVVLK   \n",
       "1  PTSS4201SN16441.mzML      196  16551   50.065410  SASSSAAGSPGGLTSLQQQK   \n",
       "2  PTSS4201SN16441.mzML      237  17303   51.487835           MGPSRLVRGPR   \n",
       "3  PTSS4201SN16441.mzML      245  44559  103.201400            LQPMLLEMER   \n",
       "4  PTSS4201SN16441.mzML      258  19567   55.739282          NIIIAGPPGTGK   \n",
       "\n",
       "                                      mztab_filename  \\\n",
       "0  Library_Augmentation_Search_-_Combined_Single_...   \n",
       "1  Library_Augmentation_Search_-_Combined_Single_...   \n",
       "2  Library_Augmentation_Search_-_Combined_Single_...   \n",
       "3  Library_Augmentation_Search_-_Combined_Single_...   \n",
       "4  Library_Augmentation_Search_-_Combined_Single_...   \n",
       "\n",
       "                            task_id         iRT  \n",
       "0  04fe276206f54b3c8f81798ea92aa6e3   54.739327  \n",
       "1  04fe276206f54b3c8f81798ea92aa6e3   42.407604  \n",
       "2  04fe276206f54b3c8f81798ea92aa6e3   44.541315  \n",
       "3  04fe276206f54b3c8f81798ea92aa6e3  122.114341  \n",
       "4  04fe276206f54b3c8f81798ea92aa6e3   50.918706  "
      ]
     },
     "execution_count": 5,
     "metadata": {},
     "output_type": "execute_result"
    }
   ],
   "source": [
    "df.head()"
   ]
  },
  {
   "cell_type": "markdown",
   "id": "875d24c9-afaf-4e16-92ba-53f5a80b1339",
   "metadata": {},
   "source": [
    "## Overlap within files"
   ]
  },
  {
   "cell_type": "code",
   "execution_count": 6,
   "id": "c2609d84-60cc-47b8-8a5d-05926babc014",
   "metadata": {},
   "outputs": [
    {
     "data": {
      "text/html": [
       "<div>\n",
       "<style scoped>\n",
       "    .dataframe tbody tr th:only-of-type {\n",
       "        vertical-align: middle;\n",
       "    }\n",
       "\n",
       "    .dataframe tbody tr th {\n",
       "        vertical-align: top;\n",
       "    }\n",
       "\n",
       "    .dataframe thead th {\n",
       "        text-align: right;\n",
       "    }\n",
       "</style>\n",
       "<table border=\"1\" class=\"dataframe\">\n",
       "  <thead>\n",
       "    <tr style=\"text-align: right;\">\n",
       "      <th></th>\n",
       "      <th>sequence</th>\n",
       "      <th>filename</th>\n",
       "      <th>count</th>\n",
       "    </tr>\n",
       "  </thead>\n",
       "  <tbody>\n",
       "    <tr>\n",
       "      <th>0</th>\n",
       "      <td>AAAAAAAAAAAAAAAAG</td>\n",
       "      <td>Bibo_20130621_CHS_IEF_3-10linear_24slices_15.m...</td>\n",
       "      <td>1</td>\n",
       "    </tr>\n",
       "    <tr>\n",
       "      <th>1</th>\n",
       "      <td>AAAAAAAAAAAAAAAAG</td>\n",
       "      <td>Bibo_20130621_CHS_IEF_3-10linear_24slices_18.m...</td>\n",
       "      <td>1</td>\n",
       "    </tr>\n",
       "    <tr>\n",
       "      <th>2</th>\n",
       "      <td>AAAAAAAAAAAAAAAAG</td>\n",
       "      <td>Bibo_20130621_CHS_IEF_3-10linear_24slices_20.m...</td>\n",
       "      <td>1</td>\n",
       "    </tr>\n",
       "    <tr>\n",
       "      <th>3</th>\n",
       "      <td>AAAAAAAAAAAAAAAAG</td>\n",
       "      <td>Bibo_20130621_CHS_IEF_3-10linear_24slices_21.m...</td>\n",
       "      <td>1</td>\n",
       "    </tr>\n",
       "    <tr>\n",
       "      <th>4</th>\n",
       "      <td>AAAAAAAAAAAAAAAAG</td>\n",
       "      <td>CHPP_97H_RP12_1.mzML</td>\n",
       "      <td>1</td>\n",
       "    </tr>\n",
       "    <tr>\n",
       "      <th>...</th>\n",
       "      <td>...</td>\n",
       "      <td>...</td>\n",
       "      <td>...</td>\n",
       "    </tr>\n",
       "    <tr>\n",
       "      <th>5876589</th>\n",
       "      <td>YYYYHR</td>\n",
       "      <td>b1928_293T_proteinID_08A_QE3_122212.mzXML</td>\n",
       "      <td>1</td>\n",
       "    </tr>\n",
       "    <tr>\n",
       "      <th>5876590</th>\n",
       "      <td>YYYYHR</td>\n",
       "      <td>colon_T_1_5.mzML</td>\n",
       "      <td>1</td>\n",
       "    </tr>\n",
       "    <tr>\n",
       "      <th>5876591</th>\n",
       "      <td>YYYYWHLR</td>\n",
       "      <td>20130502_EXQ6_SaDe_SA_76_05.mzML</td>\n",
       "      <td>1</td>\n",
       "    </tr>\n",
       "    <tr>\n",
       "      <th>5876592</th>\n",
       "      <td>YYYYWHLRK</td>\n",
       "      <td>Bibo_20130110_CHS_IEF100_20121129_3-10linear_S...</td>\n",
       "      <td>1</td>\n",
       "    </tr>\n",
       "    <tr>\n",
       "      <th>5876593</th>\n",
       "      <td>YYYYWHLRK</td>\n",
       "      <td>HUVEC_ne_con_5a_1.mzXML</td>\n",
       "      <td>1</td>\n",
       "    </tr>\n",
       "  </tbody>\n",
       "</table>\n",
       "<p>5876594 rows × 3 columns</p>\n",
       "</div>"
      ],
      "text/plain": [
       "                  sequence                                           filename  \\\n",
       "0        AAAAAAAAAAAAAAAAG  Bibo_20130621_CHS_IEF_3-10linear_24slices_15.m...   \n",
       "1        AAAAAAAAAAAAAAAAG  Bibo_20130621_CHS_IEF_3-10linear_24slices_18.m...   \n",
       "2        AAAAAAAAAAAAAAAAG  Bibo_20130621_CHS_IEF_3-10linear_24slices_20.m...   \n",
       "3        AAAAAAAAAAAAAAAAG  Bibo_20130621_CHS_IEF_3-10linear_24slices_21.m...   \n",
       "4        AAAAAAAAAAAAAAAAG                               CHPP_97H_RP12_1.mzML   \n",
       "...                    ...                                                ...   \n",
       "5876589             YYYYHR          b1928_293T_proteinID_08A_QE3_122212.mzXML   \n",
       "5876590             YYYYHR                                   colon_T_1_5.mzML   \n",
       "5876591           YYYYWHLR                   20130502_EXQ6_SaDe_SA_76_05.mzML   \n",
       "5876592          YYYYWHLRK  Bibo_20130110_CHS_IEF100_20121129_3-10linear_S...   \n",
       "5876593          YYYYWHLRK                            HUVEC_ne_con_5a_1.mzXML   \n",
       "\n",
       "         count  \n",
       "0            1  \n",
       "1            1  \n",
       "2            1  \n",
       "3            1  \n",
       "4            1  \n",
       "...        ...  \n",
       "5876589      1  \n",
       "5876590      1  \n",
       "5876591      1  \n",
       "5876592      1  \n",
       "5876593      1  \n",
       "\n",
       "[5876594 rows x 3 columns]"
      ]
     },
     "execution_count": 6,
     "metadata": {},
     "output_type": "execute_result"
    }
   ],
   "source": [
    "overlap_in_file = df.groupby(['sequence','filename']).size().reset_index(name='count')\n",
    "overlap_in_file"
   ]
  },
  {
   "cell_type": "code",
   "execution_count": 7,
   "id": "6fc023b8-c4be-4610-bfd2-41944e6faa58",
   "metadata": {},
   "outputs": [
    {
     "data": {
      "text/plain": [
       "count    5876594.0\n",
       "mean           1.0\n",
       "std            0.0\n",
       "min            1.0\n",
       "25%            1.0\n",
       "50%            1.0\n",
       "75%            1.0\n",
       "max            1.0\n",
       "Name: count, dtype: float64"
      ]
     },
     "execution_count": 7,
     "metadata": {},
     "output_type": "execute_result"
    }
   ],
   "source": [
    "overlap_in_file['count'].describe()"
   ]
  },
  {
   "cell_type": "code",
   "execution_count": 8,
   "id": "a7e72900-b57c-4740-865d-eff4e5c1f84c",
   "metadata": {},
   "outputs": [
    {
     "name": "stdout",
     "output_type": "stream",
     "text": [
      "0\n"
     ]
    },
    {
     "data": {
      "text/html": [
       "<div>\n",
       "<style scoped>\n",
       "    .dataframe tbody tr th:only-of-type {\n",
       "        vertical-align: middle;\n",
       "    }\n",
       "\n",
       "    .dataframe tbody tr th {\n",
       "        vertical-align: top;\n",
       "    }\n",
       "\n",
       "    .dataframe thead th {\n",
       "        text-align: right;\n",
       "    }\n",
       "</style>\n",
       "<table border=\"1\" class=\"dataframe\">\n",
       "  <thead>\n",
       "    <tr style=\"text-align: right;\">\n",
       "      <th></th>\n",
       "      <th>sequence</th>\n",
       "      <th>filename</th>\n",
       "      <th>count</th>\n",
       "    </tr>\n",
       "  </thead>\n",
       "  <tbody>\n",
       "  </tbody>\n",
       "</table>\n",
       "</div>"
      ],
      "text/plain": [
       "Empty DataFrame\n",
       "Columns: [sequence, filename, count]\n",
       "Index: []"
      ]
     },
     "execution_count": 8,
     "metadata": {},
     "output_type": "execute_result"
    }
   ],
   "source": [
    "print(len(overlap_in_file[overlap_in_file['count']>1]))\n",
    "overlap_in_file[overlap_in_file['count']>1]"
   ]
  },
  {
   "cell_type": "code",
   "execution_count": 23,
   "id": "28c019ad-61fa-481c-ba9e-0358f40a456e",
   "metadata": {},
   "outputs": [
    {
     "data": {
      "image/png": "[encoded data removed]",
      "text/plain": [
       "<Figure size 640x480 with 1 Axes>"
      ]
     },
     "metadata": {},
     "output_type": "display_data"
    }
   ],
   "source": [
    "overlap_in_file[\"count\"].plot.hist(range=(0, 100))\n",
    "plt.title(\"Distribution of Overlap Within file Counts\")\n",
    "plt.xlabel(\"Count\")\n",
    "plt.ylabel(\"Frequency\")\n",
    "plt.show()"
   ]
  },
  {
   "cell_type": "markdown",
   "id": "de8ac50e-9ffa-4200-af11-0e31b2f3b0f8",
   "metadata": {},
   "source": [
    "## Overlap withing task"
   ]
  },
  {
   "cell_type": "code",
   "execution_count": 16,
   "id": "f0595acc-3aa6-452d-adc5-4c8d97ec01fe",
   "metadata": {},
   "outputs": [
    {
     "data": {
      "text/html": [
       "<div>\n",
       "<style scoped>\n",
       "    .dataframe tbody tr th:only-of-type {\n",
       "        vertical-align: middle;\n",
       "    }\n",
       "\n",
       "    .dataframe tbody tr th {\n",
       "        vertical-align: top;\n",
       "    }\n",
       "\n",
       "    .dataframe thead th {\n",
       "        text-align: right;\n",
       "    }\n",
       "</style>\n",
       "<table border=\"1\" class=\"dataframe\">\n",
       "  <thead>\n",
       "    <tr style=\"text-align: right;\">\n",
       "      <th></th>\n",
       "      <th>sequence</th>\n",
       "      <th>count</th>\n",
       "    </tr>\n",
       "  </thead>\n",
       "  <tbody>\n",
       "    <tr>\n",
       "      <th>0</th>\n",
       "      <td>AAAAAAAAAAAAAAAAG</td>\n",
       "      <td>5</td>\n",
       "    </tr>\n",
       "    <tr>\n",
       "      <th>1</th>\n",
       "      <td>AAAAAAAAAAAAAAAALAAAAGGGR</td>\n",
       "      <td>9</td>\n",
       "    </tr>\n",
       "    <tr>\n",
       "      <th>2</th>\n",
       "      <td>AAAAAAAAAAAAAAAASAGGK</td>\n",
       "      <td>7</td>\n",
       "    </tr>\n",
       "    <tr>\n",
       "      <th>3</th>\n",
       "      <td>AAAAAAAAAAAAAAAAVPR</td>\n",
       "      <td>2</td>\n",
       "    </tr>\n",
       "    <tr>\n",
       "      <th>4</th>\n",
       "      <td>AAAAAAAAAAAAAAAG</td>\n",
       "      <td>1</td>\n",
       "    </tr>\n",
       "    <tr>\n",
       "      <th>...</th>\n",
       "      <td>...</td>\n",
       "      <td>...</td>\n",
       "    </tr>\n",
       "    <tr>\n",
       "      <th>737157</th>\n",
       "      <td>YYYWVINPADSSGITPK</td>\n",
       "      <td>2</td>\n",
       "    </tr>\n",
       "    <tr>\n",
       "      <th>737158</th>\n",
       "      <td>YYYYER</td>\n",
       "      <td>15</td>\n",
       "    </tr>\n",
       "    <tr>\n",
       "      <th>737159</th>\n",
       "      <td>YYYYHR</td>\n",
       "      <td>43</td>\n",
       "    </tr>\n",
       "    <tr>\n",
       "      <th>737160</th>\n",
       "      <td>YYYYWHLR</td>\n",
       "      <td>1</td>\n",
       "    </tr>\n",
       "    <tr>\n",
       "      <th>737161</th>\n",
       "      <td>YYYYWHLRK</td>\n",
       "      <td>2</td>\n",
       "    </tr>\n",
       "  </tbody>\n",
       "</table>\n",
       "<p>737162 rows × 2 columns</p>\n",
       "</div>"
      ],
      "text/plain": [
       "                         sequence  count\n",
       "0               AAAAAAAAAAAAAAAAG      5\n",
       "1       AAAAAAAAAAAAAAAALAAAAGGGR      9\n",
       "2           AAAAAAAAAAAAAAAASAGGK      7\n",
       "3             AAAAAAAAAAAAAAAAVPR      2\n",
       "4                AAAAAAAAAAAAAAAG      1\n",
       "...                           ...    ...\n",
       "737157          YYYWVINPADSSGITPK      2\n",
       "737158                     YYYYER     15\n",
       "737159                     YYYYHR     43\n",
       "737160                   YYYYWHLR      1\n",
       "737161                  YYYYWHLRK      2\n",
       "\n",
       "[737162 rows x 2 columns]"
      ]
     },
     "execution_count": 16,
     "metadata": {},
     "output_type": "execute_result"
    }
   ],
   "source": [
    "overlap_in_task = df.groupby('sequence')['task_id'].nunique().reset_index(name='count')\n",
    "overlap_in_task"
   ]
  },
  {
   "cell_type": "code",
   "execution_count": 17,
   "id": "22a55490-5f7f-4fcb-9b5b-1a4c4a836f0b",
   "metadata": {},
   "outputs": [
    {
     "data": {
      "text/plain": [
       "count    737162.000000\n",
       "mean          7.971917\n",
       "std          12.840116\n",
       "min           1.000000\n",
       "25%           1.000000\n",
       "50%           2.000000\n",
       "75%           8.000000\n",
       "max          89.000000\n",
       "Name: count, dtype: float64"
      ]
     },
     "execution_count": 17,
     "metadata": {},
     "output_type": "execute_result"
    }
   ],
   "source": [
    "overlap_in_task['count'].describe()"
   ]
  },
  {
   "cell_type": "code",
   "execution_count": 19,
   "id": "6efddbba-03c9-4e8f-b54d-a57c17beb513",
   "metadata": {},
   "outputs": [
    {
     "name": "stdout",
     "output_type": "stream",
     "text": [
      "456869\n"
     ]
    },
    {
     "data": {
      "text/html": [
       "<div>\n",
       "<style scoped>\n",
       "    .dataframe tbody tr th:only-of-type {\n",
       "        vertical-align: middle;\n",
       "    }\n",
       "\n",
       "    .dataframe tbody tr th {\n",
       "        vertical-align: top;\n",
       "    }\n",
       "\n",
       "    .dataframe thead th {\n",
       "        text-align: right;\n",
       "    }\n",
       "</style>\n",
       "<table border=\"1\" class=\"dataframe\">\n",
       "  <thead>\n",
       "    <tr style=\"text-align: right;\">\n",
       "      <th></th>\n",
       "      <th>sequence</th>\n",
       "      <th>count</th>\n",
       "    </tr>\n",
       "  </thead>\n",
       "  <tbody>\n",
       "    <tr>\n",
       "      <th>0</th>\n",
       "      <td>AAAAAAAAAAAAAAAAG</td>\n",
       "      <td>5</td>\n",
       "    </tr>\n",
       "    <tr>\n",
       "      <th>1</th>\n",
       "      <td>AAAAAAAAAAAAAAAALAAAAGGGR</td>\n",
       "      <td>9</td>\n",
       "    </tr>\n",
       "    <tr>\n",
       "      <th>2</th>\n",
       "      <td>AAAAAAAAAAAAAAAASAGGK</td>\n",
       "      <td>7</td>\n",
       "    </tr>\n",
       "    <tr>\n",
       "      <th>3</th>\n",
       "      <td>AAAAAAAAAAAAAAAAVPR</td>\n",
       "      <td>2</td>\n",
       "    </tr>\n",
       "    <tr>\n",
       "      <th>5</th>\n",
       "      <td>AAAAAAAAAAAAAAAGA</td>\n",
       "      <td>5</td>\n",
       "    </tr>\n",
       "    <tr>\n",
       "      <th>...</th>\n",
       "      <td>...</td>\n",
       "      <td>...</td>\n",
       "    </tr>\n",
       "    <tr>\n",
       "      <th>737156</th>\n",
       "      <td>YYYWAVNPQDR</td>\n",
       "      <td>26</td>\n",
       "    </tr>\n",
       "    <tr>\n",
       "      <th>737157</th>\n",
       "      <td>YYYWVINPADSSGITPK</td>\n",
       "      <td>2</td>\n",
       "    </tr>\n",
       "    <tr>\n",
       "      <th>737158</th>\n",
       "      <td>YYYYER</td>\n",
       "      <td>15</td>\n",
       "    </tr>\n",
       "    <tr>\n",
       "      <th>737159</th>\n",
       "      <td>YYYYHR</td>\n",
       "      <td>43</td>\n",
       "    </tr>\n",
       "    <tr>\n",
       "      <th>737161</th>\n",
       "      <td>YYYYWHLRK</td>\n",
       "      <td>2</td>\n",
       "    </tr>\n",
       "  </tbody>\n",
       "</table>\n",
       "<p>456869 rows × 2 columns</p>\n",
       "</div>"
      ],
      "text/plain": [
       "                         sequence  count\n",
       "0               AAAAAAAAAAAAAAAAG      5\n",
       "1       AAAAAAAAAAAAAAAALAAAAGGGR      9\n",
       "2           AAAAAAAAAAAAAAAASAGGK      7\n",
       "3             AAAAAAAAAAAAAAAAVPR      2\n",
       "5               AAAAAAAAAAAAAAAGA      5\n",
       "...                           ...    ...\n",
       "737156                YYYWAVNPQDR     26\n",
       "737157          YYYWVINPADSSGITPK      2\n",
       "737158                     YYYYER     15\n",
       "737159                     YYYYHR     43\n",
       "737161                  YYYYWHLRK      2\n",
       "\n",
       "[456869 rows x 2 columns]"
      ]
     },
     "execution_count": 19,
     "metadata": {},
     "output_type": "execute_result"
    }
   ],
   "source": [
    "print(len(overlap_in_task[overlap_in_task['count']>1]))\n",
    "overlap_in_task[overlap_in_task['count']>1]"
   ]
  },
  {
   "cell_type": "code",
   "execution_count": 22,
   "id": "c895a10d-bc69-4f83-84e4-56641bdf9a72",
   "metadata": {},
   "outputs": [
    {
     "data": {
      "image/png": "[encoded data removed]",
      "text/plain": [
       "<Figure size 640x480 with 1 Axes>"
      ]
     },
     "metadata": {},
     "output_type": "display_data"
    }
   ],
   "source": [
    "overlap_in_task[\"count\"].plot.hist(range=(0, 100))\n",
    "plt.title(\"Distribution of Overlap Within tasks Counts\")\n",
    "plt.xlabel(\"Count\")\n",
    "plt.ylabel(\"Frequency\")\n",
    "plt.show()"
   ]
  }
 ],
 "metadata": {
  "kernelspec": {
   "display_name": "Python 3 (ipykernel)",
   "language": "python",
   "name": "python3"
  },
  "language_info": {
   "codemirror_mode": {
    "name": "ipython",
    "version": 3
   },
   "file_extension": ".py",
   "mimetype": "text/x-python",
   "name": "python",
   "nbconvert_exporter": "python",
   "pygments_lexer": "ipython3",
   "version": "3.12.7"
  }
 },
 "nbformat": 4,
 "nbformat_minor": 5
}
