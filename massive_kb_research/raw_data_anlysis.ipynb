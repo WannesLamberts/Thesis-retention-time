{
 "cells": [
  {
   "cell_type": "code",
   "execution_count": 2,
   "id": "initial_id",
   "metadata": {
    "ExecuteTime": {
     "end_time": "2025-02-12T18:40:48.488421Z",
     "start_time": "2025-02-12T18:40:48.464880Z"
    }
   },
   "outputs": [],
   "source": [
    "import pandas as pd\n",
    "from utils.preprocess import *"
   ]
  },
  {
   "cell_type": "markdown",
   "id": "4bc34aab-0e26-4867-8fd4-47c84705eb99",
   "metadata": {},
   "source": [
    "# Raw data inspecting for making assumptions"
   ]
  },
  {
   "cell_type": "markdown",
   "id": "648ce715-5f59-4878-9f46-e744edca32d1",
   "metadata": {},
   "source": [
    "Assumptions made:\n",
    "Filenames(ms runs) do not appear in multiple tasks ->  run the peptide calibration per task file\n",
    "Is mztab_filename equivalent to task_id -> leave mztab_filename out of the data(storage waste)"
   ]
  },
  {
   "cell_type": "markdown",
   "id": "66f4a42f-a1d4-4bfa-8688-7d4128596355",
   "metadata": {},
   "source": [
    "## Setting up dataset"
   ]
  },
  {
   "cell_type": "code",
   "execution_count": 2,
   "id": "c74234e0-8396-4d20-9ac3-6e4d6c24f26e",
   "metadata": {
    "ExecuteTime": {
     "end_time": "2025-02-12T20:45:29.144929Z",
     "start_time": "2025-02-12T20:45:29.023159Z"
    }
   },
   "outputs": [
    {
     "name": "stdout",
     "output_type": "stream",
     "text": [
      "All TSV files have been merged into output/first_data_extended100_merged.tsv\n"
     ]
    }
   ],
   "source": [
    "#merge_psm_files('test_data/first_two_extended', 'output/first_data_extended_merged2.tsv')\n",
    "merge_psm_files('../../massivekb_dataset/results/first_100_extended/psms', 'output/first_data_extended100_merged.tsv')"
   ]
  },
  {
   "cell_type": "code",
   "execution_count": 3,
   "id": "ed76accf-da34-463c-ae22-c3df565c1654",
   "metadata": {},
   "outputs": [],
   "source": [
    "df = load_dataframe('output/test_data_calibrated_merged.tsv')"
   ]
  },
  {
   "cell_type": "code",
   "execution_count": 4,
   "id": "45191d01-c072-4a2c-802c-65a2203c5f2f",
   "metadata": {},
   "outputs": [
    {
     "data": {
      "text/plain": [
       "Index(['filename', 'level 1', 'scan', 'RT', 'sequence', 'mztab_filename',\n",
       "       'task_id', 'iRT'],\n",
       "      dtype='object')"
      ]
     },
     "execution_count": 4,
     "metadata": {},
     "output_type": "execute_result"
    }
   ],
   "source": [
    "df.columns"
   ]
  },
  {
   "cell_type": "code",
   "execution_count": 5,
   "id": "037e8cd7-83ce-4b27-9cd3-aaa24bfff431",
   "metadata": {},
   "outputs": [
    {
     "data": {
      "text/html": [
       "<div>\n",
       "<style scoped>\n",
       "    .dataframe tbody tr th:only-of-type {\n",
       "        vertical-align: middle;\n",
       "    }\n",
       "\n",
       "    .dataframe tbody tr th {\n",
       "        vertical-align: top;\n",
       "    }\n",
       "\n",
       "    .dataframe thead th {\n",
       "        text-align: right;\n",
       "    }\n",
       "</style>\n",
       "<table border=\"1\" class=\"dataframe\">\n",
       "  <thead>\n",
       "    <tr style=\"text-align: right;\">\n",
       "      <th></th>\n",
       "      <th>filename</th>\n",
       "      <th>level 1</th>\n",
       "      <th>scan</th>\n",
       "      <th>RT</th>\n",
       "      <th>sequence</th>\n",
       "      <th>mztab_filename</th>\n",
       "      <th>task_id</th>\n",
       "      <th>iRT</th>\n",
       "    </tr>\n",
       "  </thead>\n",
       "  <tbody>\n",
       "    <tr>\n",
       "      <th>0</th>\n",
       "      <td>PTSS4201SN16441.mzML</td>\n",
       "      <td>30</td>\n",
       "      <td>20919</td>\n",
       "      <td>58.286275</td>\n",
       "      <td>PVTVVVLK</td>\n",
       "      <td>Library_Augmentation_Search_-_Combined_Single_...</td>\n",
       "      <td>04fe276206f54b3c8f81798ea92aa6e3</td>\n",
       "      <td>54.460793</td>\n",
       "    </tr>\n",
       "    <tr>\n",
       "      <th>1</th>\n",
       "      <td>PTSS4201SN16441.mzML</td>\n",
       "      <td>255</td>\n",
       "      <td>16551</td>\n",
       "      <td>50.065410</td>\n",
       "      <td>SASSSAAGSPGGLTSLQQQK</td>\n",
       "      <td>Library_Augmentation_Search_-_Combined_Single_...</td>\n",
       "      <td>04fe276206f54b3c8f81798ea92aa6e3</td>\n",
       "      <td>41.154703</td>\n",
       "    </tr>\n",
       "    <tr>\n",
       "      <th>2</th>\n",
       "      <td>PTSS4201SN16441.mzML</td>\n",
       "      <td>275</td>\n",
       "      <td>28064</td>\n",
       "      <td>71.616320</td>\n",
       "      <td>LRNDLLNIIR</td>\n",
       "      <td>Library_Augmentation_Search_-_Combined_Single_...</td>\n",
       "      <td>04fe276206f54b3c8f81798ea92aa6e3</td>\n",
       "      <td>76.036476</td>\n",
       "    </tr>\n",
       "    <tr>\n",
       "      <th>3</th>\n",
       "      <td>PTSS4201SN16441.mzML</td>\n",
       "      <td>299</td>\n",
       "      <td>17303</td>\n",
       "      <td>51.487835</td>\n",
       "      <td>MGPSRLVRGPR</td>\n",
       "      <td>Library_Augmentation_Search_-_Combined_Single_...</td>\n",
       "      <td>04fe276206f54b3c8f81798ea92aa6e3</td>\n",
       "      <td>43.457005</td>\n",
       "    </tr>\n",
       "    <tr>\n",
       "      <th>4</th>\n",
       "      <td>PTSS4201SN16441.mzML</td>\n",
       "      <td>307</td>\n",
       "      <td>44559</td>\n",
       "      <td>103.201400</td>\n",
       "      <td>LQPMLLEMER</td>\n",
       "      <td>Library_Augmentation_Search_-_Combined_Single_...</td>\n",
       "      <td>04fe276206f54b3c8f81798ea92aa6e3</td>\n",
       "      <td>127.159311</td>\n",
       "    </tr>\n",
       "  </tbody>\n",
       "</table>\n",
       "</div>"
      ],
      "text/plain": [
       "               filename  level 1   scan          RT              sequence  \\\n",
       "0  PTSS4201SN16441.mzML       30  20919   58.286275              PVTVVVLK   \n",
       "1  PTSS4201SN16441.mzML      255  16551   50.065410  SASSSAAGSPGGLTSLQQQK   \n",
       "2  PTSS4201SN16441.mzML      275  28064   71.616320            LRNDLLNIIR   \n",
       "3  PTSS4201SN16441.mzML      299  17303   51.487835           MGPSRLVRGPR   \n",
       "4  PTSS4201SN16441.mzML      307  44559  103.201400            LQPMLLEMER   \n",
       "\n",
       "                                      mztab_filename  \\\n",
       "0  Library_Augmentation_Search_-_Combined_Single_...   \n",
       "1  Library_Augmentation_Search_-_Combined_Single_...   \n",
       "2  Library_Augmentation_Search_-_Combined_Single_...   \n",
       "3  Library_Augmentation_Search_-_Combined_Single_...   \n",
       "4  Library_Augmentation_Search_-_Combined_Single_...   \n",
       "\n",
       "                            task_id         iRT  \n",
       "0  04fe276206f54b3c8f81798ea92aa6e3   54.460793  \n",
       "1  04fe276206f54b3c8f81798ea92aa6e3   41.154703  \n",
       "2  04fe276206f54b3c8f81798ea92aa6e3   76.036476  \n",
       "3  04fe276206f54b3c8f81798ea92aa6e3   43.457005  \n",
       "4  04fe276206f54b3c8f81798ea92aa6e3  127.159311  "
      ]
     },
     "execution_count": 5,
     "metadata": {},
     "output_type": "execute_result"
    }
   ],
   "source": [
    "df.head()"
   ]
  },
  {
   "cell_type": "markdown",
   "id": "d31ea59a-5dbc-450a-b1a5-eed6db31ea7d",
   "metadata": {},
   "source": [
    "## Do filenames appear in multiple tasks?"
   ]
  },
  {
   "cell_type": "code",
   "execution_count": 6,
   "id": "fcb21b99-83b2-45b6-8452-e08994ac9af3",
   "metadata": {},
   "outputs": [
    {
     "data": {
      "text/plain": [
       "Series([], Name: task_id, dtype: int64)"
      ]
     },
     "execution_count": 6,
     "metadata": {},
     "output_type": "execute_result"
    }
   ],
   "source": [
    "grouped = df.groupby('filename')['task_id'].nunique()\n",
    "\n",
    "result = grouped[grouped > 1]\n",
    "\n",
    "result"
   ]
  },
  {
   "cell_type": "code",
   "execution_count": 7,
   "id": "a244d7b6-431e-4ec5-9e3f-465f90485f10",
   "metadata": {},
   "outputs": [
    {
     "data": {
      "text/plain": [
       "Series([], Name: mztab_filename, dtype: int64)"
      ]
     },
     "execution_count": 7,
     "metadata": {},
     "output_type": "execute_result"
    }
   ],
   "source": [
    "grouped = df.groupby('filename')['mztab_filename'].nunique()\n",
    "\n",
    "result = grouped[grouped > 1]\n",
    "\n",
    "result"
   ]
  },
  {
   "cell_type": "markdown",
   "id": "ef11e554-3d99-42b1-baad-5edb4044ae6f",
   "metadata": {},
   "source": [
    "## Is mztab_filename equivalent to task_id?"
   ]
  },
  {
   "cell_type": "markdown",
   "id": "ee851c7a-de72-4204-aaa6-809facc8ef57",
   "metadata": {},
   "source": [
    "If task id always only has 1 mztab filename and mztab filename always has one task id we can let mztab_filename out of the data since it uses a lot of storage and doesn't add value then."
   ]
  },
  {
   "cell_type": "code",
   "execution_count": 8,
   "id": "b8e25541-b5e5-4c77-998e-40c31b5328c5",
   "metadata": {},
   "outputs": [
    {
     "data": {
      "text/plain": [
       "Series([], Name: task_id, dtype: int64)"
      ]
     },
     "execution_count": 8,
     "metadata": {},
     "output_type": "execute_result"
    }
   ],
   "source": [
    "grouped = df.groupby('mztab_filename')['task_id'].nunique()\n",
    "\n",
    "result = grouped[grouped > 1]\n",
    "result"
   ]
  },
  {
   "cell_type": "code",
   "execution_count": 9,
   "id": "2cf40bb6-620a-4b75-8f01-94c520c8ec65",
   "metadata": {},
   "outputs": [
    {
     "data": {
      "text/plain": [
       "Series([], Name: mztab_filename, dtype: int64)"
      ]
     },
     "execution_count": 9,
     "metadata": {},
     "output_type": "execute_result"
    }
   ],
   "source": [
    "grouped = df.groupby('task_id')['mztab_filename'].nunique()\n",
    "\n",
    "result = grouped[grouped > 1]\n",
    "result"
   ]
  },
  {
   "cell_type": "code",
   "execution_count": 10,
   "id": "41d42561-1ee3-465b-ae25-21fe46cd52ed",
   "metadata": {},
   "outputs": [
    {
     "name": "stdout",
     "output_type": "stream",
     "text": [
      "there are 89 unique task id's \n",
      "there are 89 unique mztab_filename's \n",
      "There are 89 unique pairs\n"
     ]
    }
   ],
   "source": [
    "df_unique_pairs = df.groupby(['task_id', 'mztab_filename'])\n",
    "print(f'there are {df['task_id'].nunique()} unique task id\\'s ')\n",
    "print(f'there are {df['mztab_filename'].nunique()} unique mztab_filename\\'s ')\n",
    "\n",
    "print(f'There are {len(df_unique_pairs)} unique pairs')"
   ]
  },
  {
   "cell_type": "markdown",
   "id": "9cbcb645-dee3-4af3-86a0-634ed8a7048b",
   "metadata": {},
   "source": [
    "# Inspecting Retention times"
   ]
  }
 ],
 "metadata": {
  "kernelspec": {
   "display_name": "Python 3 (ipykernel)",
   "language": "python",
   "name": "python3"
  },
  "language_info": {
   "codemirror_mode": {
    "name": "ipython",
    "version": 3
   },
   "file_extension": ".py",
   "mimetype": "text/x-python",
   "name": "python",
   "nbconvert_exporter": "python",
   "pygments_lexer": "ipython3",
   "version": "3.12.7"
  }
 },
 "nbformat": 4,
 "nbformat_minor": 5
}
